{
 "cells": [
  {
   "cell_type": "code",
   "execution_count": 1,
   "metadata": {},
   "outputs": [
    {
     "name": "stdout",
     "output_type": "stream",
     "text": [
      "Hello world!\n",
      "Hello World\n"
     ]
    }
   ],
   "source": [
    "print(\"Hello world!\\nHello World!\")"
   ]
  },
  {
   "cell_type": "code",
   "execution_count": 4,
   "metadata": {},
   "outputs": [
    {
     "name": "stdout",
     "output_type": "stream",
     "text": [
      "Hello Angela\n"
     ]
    }
   ],
   "source": [
    "print(\"Hello \"+\"Angela\")"
   ]
  },
  {
   "cell_type": "code",
   "execution_count": 6,
   "metadata": {},
   "outputs": [
    {
     "name": "stdout",
     "output_type": "stream",
     "text": [
      "Day 1 - String Manipulation\n",
      "String Concatencation is done with the '+' sign\n",
      "e.g. print (\"Hello \" + \"world)\n",
      "New lines can be created with a backslash and n.\n"
     ]
    }
   ],
   "source": [
    "print(\"Day 1 - String Manipulation\")\n",
    "print(\"String Concatencation is done with the '+' sign\")\n",
    "print('e.g. print (\"Hello \" + \"world)')\n",
    "print(\"New lines can be created with a backslash and n.\")"
   ]
  },
  {
   "cell_type": "code",
   "execution_count": 10,
   "metadata": {},
   "outputs": [
    {
     "name": "stdout",
     "output_type": "stream",
     "text": [
      "Hello einmo\n"
     ]
    }
   ],
   "source": [
    "print(\"Hello \"+input(\"what is your name?\"))"
   ]
  },
  {
   "cell_type": "code",
   "execution_count": 11,
   "metadata": {},
   "outputs": [
    {
     "name": "stdout",
     "output_type": "stream",
     "text": [
      "4\n"
     ]
    }
   ],
   "source": [
    "print(len(input(\"whas your name?\")))"
   ]
  },
  {
   "cell_type": "code",
   "execution_count": 12,
   "metadata": {},
   "outputs": [
    {
     "name": "stdout",
     "output_type": "stream",
     "text": [
      "4\n",
      "eino\n"
     ]
    }
   ],
   "source": [
    "name=input(\"whas your name?\")\n",
    "print(len(name))\n",
    "print(name)"
   ]
  },
  {
   "cell_type": "code",
   "execution_count": 14,
   "metadata": {},
   "outputs": [
    {
     "name": "stdout",
     "output_type": "stream",
     "text": [
      "a = 21\n",
      "b = 50\n"
     ]
    }
   ],
   "source": [
    "a=input(\"a: \")\n",
    "b=input(\"b: \")\n",
    "c=a\n",
    "a=b\n",
    "b=c\n",
    "print(\"a = \"+a)\n",
    "print(\"b = \"+b)"
   ]
  },
  {
   "cell_type": "code",
   "execution_count": 18,
   "metadata": {},
   "outputs": [
    {
     "name": "stdout",
     "output_type": "stream",
     "text": [
      "Welcome to band name generator\n",
      "Your band name is espoo aku\n"
     ]
    }
   ],
   "source": [
    "print(\"Welcome to band name generator\")\n",
    "home=input(\"What was your home town\")\n",
    "pet=input(\"What was your pet name?\")\n",
    "print(f\"Your band name is {home} {pet}\")"
   ]
  },
  {
   "cell_type": "code",
   "execution_count": null,
   "metadata": {},
   "outputs": [],
   "source": []
  }
 ],
 "metadata": {
  "kernelspec": {
   "display_name": "Python 3.10.2 64-bit",
   "language": "python",
   "name": "python3"
  },
  "language_info": {
   "codemirror_mode": {
    "name": "ipython",
    "version": 3
   },
   "file_extension": ".py",
   "mimetype": "text/x-python",
   "name": "python",
   "nbconvert_exporter": "python",
   "pygments_lexer": "ipython3",
   "version": "3.10.2"
  },
  "orig_nbformat": 4,
  "vscode": {
   "interpreter": {
    "hash": "05f7a43266218249dcbe763517877636c6a690f049d6e8c7ff56026e13d2cf32"
   }
  }
 },
 "nbformat": 4,
 "nbformat_minor": 2
}
