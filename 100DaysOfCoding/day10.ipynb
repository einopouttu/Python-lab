{
 "cells": [
  {
   "cell_type": "code",
   "execution_count": 2,
   "metadata": {},
   "outputs": [
    {
     "data": {
      "text/plain": [
       "6"
      ]
     },
     "execution_count": 2,
     "metadata": {},
     "output_type": "execute_result"
    }
   ],
   "source": [
    "def my_function():\n",
    "    return 3*2\n",
    "my_function()"
   ]
  },
  {
   "cell_type": "code",
   "execution_count": 6,
   "metadata": {},
   "outputs": [
    {
     "data": {
      "text/plain": [
       "'Eino Pouttu'"
      ]
     },
     "execution_count": 6,
     "metadata": {},
     "output_type": "execute_result"
    }
   ],
   "source": [
    "def format_name(f_name,l_name):\n",
    "    \"\"\"Take a first and last name and format it to return the title case version of the name.\"\"\"\n",
    "    if f_name==\"\" or l_name==\"\":\n",
    "        return \"You didn't give vlaid inputs\"\n",
    "    f_name=f_name.title()\n",
    "    l_name=l_name.title()\n",
    "    return f\"{f_name} {l_name}\"\n",
    "format_name(input(\"Whats your first name?\"),input(\"What's your last name?\"))"
   ]
  },
  {
   "cell_type": "code",
   "execution_count": 7,
   "metadata": {},
   "outputs": [
    {
     "name": "stdout",
     "output_type": "stream",
     "text": [
      "28\n"
     ]
    }
   ],
   "source": [
    "def is_leap(year):\n",
    "    if year%4==0:\n",
    "        if year%100==0:\n",
    "            if year%400==0:\n",
    "                return True\n",
    "            else:\n",
    "                return False\n",
    "        else:\n",
    "            return True\n",
    "    else:\n",
    "        return False\n",
    "def days_in_month(year,month):\n",
    "    if month>12 or month <1:\n",
    "        return \"Invalid month\"\n",
    "    month_days=[31,28,31,30,31,30,31,31,30,31,30,31]\n",
    "    if is_leap(year) and month==2:\n",
    "        return 29\n",
    "    return month_days[month-1]\n",
    "            \n",
    "    \n",
    "year=int(input(\"Enter a year: \"))\n",
    "month=int(input(\"Enter a month: \"))\n",
    "days=days_in_month(year,month)\n",
    "print(days)"
   ]
  },
  {
   "cell_type": "code",
   "execution_count": 2,
   "metadata": {},
   "outputs": [
    {
     "name": "stdout",
     "output_type": "stream",
     "text": [
      "+\n",
      "-\n",
      "*\n",
      "/\n"
     ]
    }
   ],
   "source": [
    "def add(n1,n2):\n",
    "    return n1+n2\n",
    "def subtract(n1,n2):\n",
    "    return n1-n2\n",
    "def multiply(n1,n2):\n",
    "    return n1*n2\n",
    "def divide(n1,n2):\n",
    "    return n1/n2\n",
    "\n",
    "operations={\n",
    "    \"+\": add\n",
    "    ,\"-\": subtract\n",
    "    ,\"*\": multiply\n",
    "    ,\"/\": divide\n",
    "}\n",
    "\n",
    "n1=int(input(\"What's the first number?\"))\n",
    "n2=int(input(\"What's the second number?\"))\n",
    "for symbol in operations:\n",
    "    print(symbol)\n",
    "operation_symbol=input(\"Pick an operation from the line above: \")\n",
    "if operation_symbol==\"+\":\n",
    "    print(f\"{n1} + {n2} = {n1+n2}\")\n",
    "elif operation_symbol==\"-\":\n",
    "    print(f\"{n1} - {n2} = {n1-n2}\")\n",
    "elif operation_symbol==\"*\":\n",
    "    print(f\"{n1} * {n2} = {n1*n2}\")\n",
    "elif operation_symbol==\"/\":\n",
    "    print(f\"{n1} / {n2} = {n1/n2}\")\n",
    "else:\n",
    "    print(\"Invalid operation\")"
   ]
  },
  {
   "cell_type": "code",
   "execution_count": 6,
   "metadata": {},
   "outputs": [
    {
     "name": "stdout",
     "output_type": "stream",
     "text": [
      "+\n",
      "-\n",
      "*\n",
      "/\n",
      "2 * 2 = 4\n",
      "4 / 3 = 1.3333333333333333\n"
     ]
    }
   ],
   "source": [
    "def add(n1,n2):\n",
    "    return n1+n2\n",
    "def subtract(n1,n2):\n",
    "    return n1-n2\n",
    "def multiply(n1,n2):\n",
    "    return n1*n2\n",
    "def divide(n1,n2):\n",
    "    return n1/n2\n",
    "\n",
    "operations={\n",
    "    \"+\": add\n",
    "    ,\"-\": subtract\n",
    "    ,\"*\": multiply\n",
    "    ,\"/\": divide\n",
    "}\n",
    "\n",
    "n1=int(input(\"What's the first number?\"))\n",
    "for symbol in operations:\n",
    "    print(symbol)\n",
    "operation_symbol=input(\"Pick an operation from the line above: \")\n",
    "n2=int(input(\"What's the second number?\"))\n",
    "calculation_function=operations[operation_symbol]\n",
    "first_answer=calculation_function(n1,n2)\n",
    "\n",
    "print(f\"{n1} {operation_symbol} {n2} = {first_answer}\")\n",
    "\n",
    "operation_symbol=input(\"Pick another operation\")\n",
    "n3=int(input(\"What's the next number?\"))\n",
    "calculation_function=operations[operation_symbol]\n",
    "second_answer=calculation_function(first_answer,n3)\n",
    "print(f\"{first_answer} {operation_symbol} {n3} = {second_answer}\")"
   ]
  },
  {
   "cell_type": "code",
   "execution_count": null,
   "metadata": {},
   "outputs": [],
   "source": []
  }
 ],
 "metadata": {
  "kernelspec": {
   "display_name": "Python 3.10.2 64-bit",
   "language": "python",
   "name": "python3"
  },
  "language_info": {
   "codemirror_mode": {
    "name": "ipython",
    "version": 3
   },
   "file_extension": ".py",
   "mimetype": "text/x-python",
   "name": "python",
   "nbconvert_exporter": "python",
   "pygments_lexer": "ipython3",
   "version": "3.10.2"
  },
  "orig_nbformat": 4,
  "vscode": {
   "interpreter": {
    "hash": "05f7a43266218249dcbe763517877636c6a690f049d6e8c7ff56026e13d2cf32"
   }
  }
 },
 "nbformat": 4,
 "nbformat_minor": 2
}
