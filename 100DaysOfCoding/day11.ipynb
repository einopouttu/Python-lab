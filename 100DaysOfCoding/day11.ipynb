{
 "cells": [
  {
   "cell_type": "code",
   "execution_count": 1,
   "metadata": {},
   "outputs": [
    {
     "name": "stdout",
     "output_type": "stream",
     "text": [
      "[10, 3]\n",
      "[8, 10]\n"
     ]
    }
   ],
   "source": [
    "import random as rd\n",
    "\n",
    "cards=[11,2,3,4,5,6,7,8,9,10,10,10,10]\n",
    "user_cards=[]\n",
    "computer_cards=[]\n",
    "for i in range(2):\n",
    "    user_cards.append(rd.choice(cards))\n",
    "    computer_cards.append(rd.choice(cards))\n",
    "print(user_cards)\n",
    "print(computer_cards)\n",
    "#def draw_card():\n",
    "    "
   ]
  },
  {
   "cell_type": "code",
   "execution_count": null,
   "metadata": {},
   "outputs": [],
   "source": []
  }
 ],
 "metadata": {
  "kernelspec": {
   "display_name": "Python 3.10.2 64-bit",
   "language": "python",
   "name": "python3"
  },
  "language_info": {
   "codemirror_mode": {
    "name": "ipython",
    "version": 3
   },
   "file_extension": ".py",
   "mimetype": "text/x-python",
   "name": "python",
   "nbconvert_exporter": "python",
   "pygments_lexer": "ipython3",
   "version": "3.10.2"
  },
  "orig_nbformat": 4,
  "vscode": {
   "interpreter": {
    "hash": "05f7a43266218249dcbe763517877636c6a690f049d6e8c7ff56026e13d2cf32"
   }
  }
 },
 "nbformat": 4,
 "nbformat_minor": 2
}
