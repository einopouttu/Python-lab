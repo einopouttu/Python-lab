{
 "cells": [
  {
   "cell_type": "code",
   "execution_count": 1,
   "metadata": {},
   "outputs": [
    {
     "name": "stdout",
     "output_type": "stream",
     "text": [
      "enemies inside function: 2\n",
      "enemies outside function: 1\n"
     ]
    }
   ],
   "source": [
    "enemies=1\n",
    "\n",
    "def increase_enemies():\n",
    "    enemies=2\n",
    "    print(f\"enemies inside function: {enemies}\")\n",
    "\n",
    "increase_enemies()\n",
    "print(f\"enemies outside function: {enemies}\")"
   ]
  },
  {
   "cell_type": "code",
   "execution_count": 2,
   "metadata": {},
   "outputs": [
    {
     "name": "stdout",
     "output_type": "stream",
     "text": [
      "2\n"
     ]
    },
    {
     "ename": "NameError",
     "evalue": "name 'potion_strength' is not defined",
     "output_type": "error",
     "traceback": [
      "\u001b[1;31m---------------------------------------------------------------------------\u001b[0m",
      "\u001b[1;31mNameError\u001b[0m                                 Traceback (most recent call last)",
      "\u001b[1;32md:\\Repot\\Python-lab\\100DaysOfCoding\\day12.ipynb Cell 2\u001b[0m in \u001b[0;36m<cell line: 6>\u001b[1;34m()\u001b[0m\n\u001b[0;32m      <a href='vscode-notebook-cell:/d%3A/Repot/Python-lab/100DaysOfCoding/day12.ipynb#W1sZmlsZQ%3D%3D?line=2'>3</a>\u001b[0m     \u001b[39mprint\u001b[39m(potion_strength)\n\u001b[0;32m      <a href='vscode-notebook-cell:/d%3A/Repot/Python-lab/100DaysOfCoding/day12.ipynb#W1sZmlsZQ%3D%3D?line=4'>5</a>\u001b[0m drink_potion()\n\u001b[1;32m----> <a href='vscode-notebook-cell:/d%3A/Repot/Python-lab/100DaysOfCoding/day12.ipynb#W1sZmlsZQ%3D%3D?line=5'>6</a>\u001b[0m \u001b[39mprint\u001b[39m(potion_strength)\n",
      "\u001b[1;31mNameError\u001b[0m: name 'potion_strength' is not defined"
     ]
    }
   ],
   "source": [
    "def drink_potion():\n",
    "    potion_strength=2\n",
    "    print(potion_strength)\n",
    "\n",
    "drink_potion()"
   ]
  },
  {
   "cell_type": "code",
   "execution_count": 12,
   "metadata": {},
   "outputs": [
    {
     "name": "stdout",
     "output_type": "stream",
     "text": [
      "10\n"
     ]
    }
   ],
   "source": [
    "player_health=10\n",
    "def game():\n",
    "    def drink_potion():\n",
    "        potion_strength=2\n",
    "        print(player_health)\n",
    "    drink_potion()\n",
    "\n",
    "game()"
   ]
  },
  {
   "cell_type": "code",
   "execution_count": 1,
   "metadata": {},
   "outputs": [
    {
     "ename": "NameError",
     "evalue": "name 'new_enemy' is not defined",
     "output_type": "error",
     "traceback": [
      "\u001b[1;31m---------------------------------------------------------------------------\u001b[0m",
      "\u001b[1;31mNameError\u001b[0m                                 Traceback (most recent call last)",
      "\u001b[1;32md:\\Repot\\Python-lab\\100DaysOfCoding\\day12.ipynb Cell 4\u001b[0m in \u001b[0;36m<cell line: 8>\u001b[1;34m()\u001b[0m\n\u001b[0;32m      <a href='vscode-notebook-cell:/d%3A/Repot/Python-lab/100DaysOfCoding/day12.ipynb#W3sZmlsZQ%3D%3D?line=3'>4</a>\u001b[0m     \u001b[39mif\u001b[39;00m game_level\u001b[39m<\u001b[39m\u001b[39m5\u001b[39m:\n\u001b[0;32m      <a href='vscode-notebook-cell:/d%3A/Repot/Python-lab/100DaysOfCoding/day12.ipynb#W3sZmlsZQ%3D%3D?line=4'>5</a>\u001b[0m         new_enemy\u001b[39m=\u001b[39menemies[\u001b[39m0\u001b[39m]\n\u001b[1;32m----> <a href='vscode-notebook-cell:/d%3A/Repot/Python-lab/100DaysOfCoding/day12.ipynb#W3sZmlsZQ%3D%3D?line=7'>8</a>\u001b[0m \u001b[39mprint\u001b[39m(new_enemy)\n",
      "\u001b[1;31mNameError\u001b[0m: name 'new_enemy' is not defined"
     ]
    }
   ],
   "source": [
    "game_level=3\n",
    "def create_enemy():\n",
    "    enemies=[\"Skeleton\",\"Zombie\",\"Alien\"]\n",
    "    if game_level<5:\n",
    "        new_enemy=enemies[0]\n",
    "        \n",
    "        \n",
    "print(new_enemy)"
   ]
  },
  {
   "cell_type": "code",
   "execution_count": 23,
   "metadata": {},
   "outputs": [
    {
     "name": "stdout",
     "output_type": "stream",
     "text": [
      "enemies inside function: 2\n",
      "enemies outside function: 1\n"
     ]
    }
   ],
   "source": [
    "enemies=1\n",
    "def increase_enemies():\n",
    "    enemies=2\n",
    "    print(f\"enemies inside function: {enemies}\")\n",
    "\n",
    "increase_enemies()\n",
    "print(f\"enemies outside function: {enemies}\")"
   ]
  },
  {
   "cell_type": "code",
   "execution_count": 25,
   "metadata": {},
   "outputs": [
    {
     "name": "stdout",
     "output_type": "stream",
     "text": [
      "enemies inside function: 1\n",
      "enemies outside function: 2\n"
     ]
    }
   ],
   "source": [
    "enemies=1\n",
    "def increase_enemies():\n",
    "    print(f\"enemies inside function: {enemies}\")\n",
    "    return enemies+1\n",
    "enemies=increase_enemies()\n",
    "print(f\"enemies outside function: {enemies}\")"
   ]
  },
  {
   "cell_type": "code",
   "execution_count": 27,
   "metadata": {},
   "outputs": [
    {
     "name": "stdout",
     "output_type": "stream",
     "text": [
      "3.14159\n"
     ]
    }
   ],
   "source": [
    "pi=3.14159\n",
    "def calc():\n",
    "    print(pi)\n",
    "calc()"
   ]
  },
  {
   "cell_type": "code",
   "execution_count": 13,
   "metadata": {},
   "outputs": [
    {
     "name": "stdout",
     "output_type": "stream",
     "text": [
      "You have 5 guesses left.\n",
      "Too low.\n",
      "Guess again.\n",
      "You have 4 guesses left.\n",
      "Too low.\n",
      "Guess again.\n",
      "You have 3 guesses left.\n",
      "Too low.\n",
      "Guess again.\n",
      "You have 2 guesses left.\n",
      "Too low.\n",
      "Guess again.\n",
      "You have 1 guesses left.\n",
      "Too low.\n",
      "You run out of guesses, you lose. The correct number was 93.\n"
     ]
    }
   ],
   "source": [
    "import random as rd\n",
    "def game():\n",
    "    level=input(\"Welcome to number guessing game! Type 'easy' for easy mode and 'hard' for hard mode\")\n",
    "    while level.lower() not in ('easy','hard'):\n",
    "        level=input(\"Type 'easy' for easy mode and 'hard' for hard mode\").lower()\n",
    "        \n",
    "    if level.lower()=='easy':\n",
    "        attempts=10\n",
    "    else:\n",
    "        attempts=5\n",
    "    \n",
    "    number=rd.randint(1,100)\n",
    "\n",
    "    game_over=False\n",
    "\n",
    "    while not game_over:\n",
    "        print(f\"You have {attempts} guesses left.\")\n",
    "        guess=int(input(\"guess a number between 1 and 100\"))\n",
    "        if guess==number:\n",
    "            print(f\"Correct! You win! The number was {guess}.\")\n",
    "            game_over=True\n",
    "        elif guess>100 or guess<1:\n",
    "            print(\"Guess is out of range, guess again\")\n",
    "        elif guess>number:\n",
    "            print(\"Too high.\")\n",
    "            attempts-=1\n",
    "            if attempts==0:\n",
    "                print(f\"You run out of guesses, you lose. The correct number was {number}.\")\n",
    "                game_over=True\n",
    "            else:\n",
    "                print(\"Guess again.\")\n",
    "        else:\n",
    "            print(\"Too low.\")\n",
    "            attempts-=1\n",
    "            if attempts==0:\n",
    "                print(f\"You run out of guesses, you lose. The correct number was {number}.\")\n",
    "                game_over=True\n",
    "            else:\n",
    "                print(\"Guess again.\")\n",
    "    \n",
    "    if input(\"Type 'y' to play again\").lower()==\"y\":\n",
    "        game()\n",
    "\n",
    "game()"
   ]
  },
  {
   "cell_type": "code",
   "execution_count": null,
   "metadata": {},
   "outputs": [],
   "source": []
  }
 ],
 "metadata": {
  "kernelspec": {
   "display_name": "Python 3.10.2 64-bit",
   "language": "python",
   "name": "python3"
  },
  "language_info": {
   "codemirror_mode": {
    "name": "ipython",
    "version": 3
   },
   "file_extension": ".py",
   "mimetype": "text/x-python",
   "name": "python",
   "nbconvert_exporter": "python",
   "pygments_lexer": "ipython3",
   "version": "3.10.2"
  },
  "orig_nbformat": 4,
  "vscode": {
   "interpreter": {
    "hash": "05f7a43266218249dcbe763517877636c6a690f049d6e8c7ff56026e13d2cf32"
   }
  }
 },
 "nbformat": 4,
 "nbformat_minor": 2
}
