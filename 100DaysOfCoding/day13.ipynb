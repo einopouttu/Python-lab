{
 "cells": [
  {
   "cell_type": "code",
   "execution_count": 27,
   "metadata": {},
   "outputs": [
    {
     "name": "stdout",
     "output_type": "stream",
     "text": [
      "[2, 4, 6, 10, 16, 26]\n"
     ]
    }
   ],
   "source": [
    "############DEBUGGING#####################\n",
    "\n",
    "# # Describe Problem\n",
    "# def my_function():\n",
    "#   for i in range(1, 21):\n",
    "#     if i == 20:\n",
    "#       print(\"You got it\")\n",
    "# my_function()\n",
    "\n",
    "# # Reproduce the Bug\n",
    "# from random import randint\n",
    "# dice_imgs = [\"❶\", \"❷\", \"❸\", \"❹\", \"❺\", \"❻\"]\n",
    "# dice_num = randint(0,5)\n",
    "# print(dice_imgs[dice_num])\n",
    "\n",
    "# # Play Computer\n",
    "# year = int(input(\"What's your year of birth?\"))\n",
    "# if year > 1980 and year < 1994:\n",
    "#   print(\"You are a millenial.\")\n",
    "# elif year >= 1994:\n",
    "#   print(\"You are a Gen Z.\")\n",
    "\n",
    "# # Fix the Errors\n",
    "# age = int(input(\"How old are you?\"))\n",
    "# if age > 18:\n",
    "#     print(f\"You can drive at age {age}.\")\n",
    "\n",
    "# #Print is Your Friend\n",
    "# pages = 0\n",
    "# word_per_page = 0\n",
    "# pages = int(input(\"Number of pages: \"))\n",
    "# print(pages)\n",
    "# word_per_page = int(input(\"Number of words per page: \"))\n",
    "# print(word_per_page)\n",
    "# total_words = pages * word_per_page\n",
    "# print(total_words)\n",
    "\n",
    "# #Use a Debugger\n",
    "def mutate(a_list):\n",
    "  b_list = []\n",
    "  for item in a_list:\n",
    "    new_item = item * 2\n",
    "    b_list.append(new_item)\n",
    "  print(b_list)\n",
    "\n",
    "mutate([1,2,3,5,8,13])"
   ]
  },
  {
   "cell_type": "code",
   "execution_count": 28,
   "metadata": {},
   "outputs": [
    {
     "name": "stdout",
     "output_type": "stream",
     "text": [
      "This is an odd number.\n"
     ]
    }
   ],
   "source": [
    "number = int(input(\"Which number do you want to check?\"))\n",
    "\n",
    "if number % 2 == 0:\n",
    "  print(\"This is an even number.\")\n",
    "else:\n",
    "  print(\"This is an odd number.\")"
   ]
  },
  {
   "cell_type": "code",
   "execution_count": 29,
   "metadata": {},
   "outputs": [
    {
     "name": "stdout",
     "output_type": "stream",
     "text": [
      "Not leap year.\n"
     ]
    }
   ],
   "source": [
    "year = int(input(\"Which year do you want to check?\"))\n",
    "\n",
    "if year % 4 == 0:\n",
    "  if year % 100 == 0:\n",
    "    if year % 400 == 0:\n",
    "      print(\"Leap year.\")\n",
    "    else:\n",
    "      print(\"Not leap year.\")\n",
    "  else:\n",
    "    print(\"Leap year.\")\n",
    "else:\n",
    "  print(\"Not leap year.\")"
   ]
  },
  {
   "cell_type": "code",
   "execution_count": null,
   "metadata": {},
   "outputs": [],
   "source": [
    "for number in range(1, 101):\n",
    "  if number % 3 == 0 or number % 5 == 0:\n",
    "    print(\"FizzBuzz\")\n",
    "  if number % 3 == 0:\n",
    "    print(\"Fizz\")\n",
    "  if number % 5 == 0:\n",
    "    print(\"Buzz\")\n",
    "  else:\n",
    "    print([number])"
   ]
  }
 ],
 "metadata": {
  "kernelspec": {
   "display_name": "Python 3.10.2 64-bit",
   "language": "python",
   "name": "python3"
  },
  "language_info": {
   "codemirror_mode": {
    "name": "ipython",
    "version": 3
   },
   "file_extension": ".py",
   "mimetype": "text/x-python",
   "name": "python",
   "nbconvert_exporter": "python",
   "pygments_lexer": "ipython3",
   "version": "3.10.2"
  },
  "orig_nbformat": 4,
  "vscode": {
   "interpreter": {
    "hash": "05f7a43266218249dcbe763517877636c6a690f049d6e8c7ff56026e13d2cf32"
   }
  }
 },
 "nbformat": 4,
 "nbformat_minor": 2
}
