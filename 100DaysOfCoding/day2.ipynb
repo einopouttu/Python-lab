{
 "cells": [
  {
   "cell_type": "code",
   "execution_count": 8,
   "metadata": {},
   "outputs": [
    {
     "name": "stdout",
     "output_type": "stream",
     "text": [
      "l\n",
      "123\n",
      "2.3\n",
      "True\n"
     ]
    }
   ],
   "source": [
    "#Data Types\n",
    "#String\n",
    "print(\"Hello\"[-3])\n",
    "\n",
    "#Integer\n",
    "print(123)\n",
    "\n",
    "#Float\n",
    "print(2.3)\n",
    "\n",
    "#Boolean\n",
    "print(True)\n",
    "\n"
   ]
  },
  {
   "cell_type": "code",
   "execution_count": 11,
   "metadata": {},
   "outputs": [
    {
     "name": "stdout",
     "output_type": "stream",
     "text": [
      "<class 'int'>\n",
      "Your name has 4 characters\n"
     ]
    }
   ],
   "source": [
    "len(\"Hello\")\n",
    "num_char=len(input(\"Name\"))\n",
    "print(type(num_char))\n",
    "print(f\"Your name has {num_char} characters\")"
   ]
  },
  {
   "cell_type": "code",
   "execution_count": 13,
   "metadata": {},
   "outputs": [
    {
     "name": "stdout",
     "output_type": "stream",
     "text": [
      "<class 'float'>\n",
      "70100\n"
     ]
    }
   ],
   "source": [
    "a=float(123)\n",
    "print(type(a))\n",
    "print(str(70)+str(100))"
   ]
  },
  {
   "cell_type": "code",
   "execution_count": 15,
   "metadata": {},
   "outputs": [
    {
     "name": "stdout",
     "output_type": "stream",
     "text": [
      "7\n"
     ]
    }
   ],
   "source": [
    "n=input(\"2-digit number\")\n",
    "print(int(n[0])+int(n[1]))"
   ]
  },
  {
   "cell_type": "code",
   "execution_count": 25,
   "metadata": {},
   "outputs": [
    {
     "data": {
      "text/plain": [
       "5"
      ]
     },
     "execution_count": 25,
     "metadata": {},
     "output_type": "execute_result"
    }
   ],
   "source": [
    "3+5\n",
    "7-4\n",
    "3*2\n",
    "6/3\n",
    "2**2\n",
    "2%5\n",
    "10/2"
   ]
  },
  {
   "cell_type": "code",
   "execution_count": 33,
   "metadata": {},
   "outputs": [
    {
     "name": "stdout",
     "output_type": "stream",
     "text": [
      "Your BMI is 28.501\n"
     ]
    }
   ],
   "source": [
    "h=float(input(\"height in m:\"))\n",
    "w=float(input(\"weight in kg: \"))\n",
    "print(f\"Your BMI is {round(w/h**2,2)}\")"
   ]
  },
  {
   "cell_type": "code",
   "execution_count": 35,
   "metadata": {},
   "outputs": [
    {
     "name": "stdout",
     "output_type": "stream",
     "text": [
      "You have 28470 days, 4056 weeks, 936 montsh and 78 years left\n"
     ]
    }
   ],
   "source": [
    "age=int(input(\"Whats your age?\"))\n",
    "days=90*365-age*365\n",
    "weeks=90*52-age*52\n",
    "months=90*12-age*12\n",
    "years=90-age\n",
    "\n",
    "print(f\"You have {days} days, {weeks} weeks, {months} months and {years} years left\")"
   ]
  },
  {
   "cell_type": "code",
   "execution_count": 45,
   "metadata": {},
   "outputs": [
    {
     "name": "stdout",
     "output_type": "stream",
     "text": [
      "Welcome to tip calculator\n",
      "Everyone should pay 33.60\n"
     ]
    }
   ],
   "source": [
    "print(\"Welcome to tip calculator\")\n",
    "bill=float(input(\"What was the total bill?\"))\n",
    "eaters=int(input(\"How many eaters were there?\"))\n",
    "tip=int(input(\"How much tip percentage is?\"))\n",
    "total_bill_per_person=round(bill*(1+tip/100)/eaters,2)\n",
    "final_amount=\"{:.2f}\".format(total_bill_per_person)\n",
    "print(f\"Everyone should pay {final_amount}\")"
   ]
  },
  {
   "cell_type": "code",
   "execution_count": null,
   "metadata": {},
   "outputs": [],
   "source": []
  }
 ],
 "metadata": {
  "kernelspec": {
   "display_name": "Python 3.10.2 64-bit",
   "language": "python",
   "name": "python3"
  },
  "language_info": {
   "codemirror_mode": {
    "name": "ipython",
    "version": 3
   },
   "file_extension": ".py",
   "mimetype": "text/x-python",
   "name": "python",
   "nbconvert_exporter": "python",
   "pygments_lexer": "ipython3",
   "version": "3.10.2"
  },
  "orig_nbformat": 4,
  "vscode": {
   "interpreter": {
    "hash": "05f7a43266218249dcbe763517877636c6a690f049d6e8c7ff56026e13d2cf32"
   }
  }
 },
 "nbformat": 4,
 "nbformat_minor": 2
}
