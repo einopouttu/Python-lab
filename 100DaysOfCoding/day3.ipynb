{
 "cells": [
  {
   "cell_type": "code",
   "execution_count": 3,
   "metadata": {},
   "outputs": [
    {
     "name": "stdout",
     "output_type": "stream",
     "text": [
      "You are too small\n"
     ]
    }
   ],
   "source": [
    "height=int(input(\"What is your height in cm?\"))\n",
    "if height>=120:\n",
    "    print(\"you can go\")\n",
    "else:\n",
    "    print(\"You are too small\")"
   ]
  },
  {
   "cell_type": "code",
   "execution_count": 5,
   "metadata": {},
   "outputs": [
    {
     "name": "stdout",
     "output_type": "stream",
     "text": [
      "even\n"
     ]
    }
   ],
   "source": [
    "number=int(input(\"Give a number\"))\n",
    "if number%2==0:\n",
    "    print(\"even\")\n",
    "else:\n",
    "    print(\"odd\")"
   ]
  },
  {
   "cell_type": "code",
   "execution_count": 10,
   "metadata": {},
   "outputs": [
    {
     "name": "stdout",
     "output_type": "stream",
     "text": [
      "Please pay 5 euros\n"
     ]
    }
   ],
   "source": [
    "height=int(input(\"What is your height in cm?\"))\n",
    "if height >= 120:\n",
    "    age=int(input(\"How old are you?\"))\n",
    "    if age >=18:\n",
    "        print(\"Please pay 12 euros\")\n",
    "    elif age>=12:\n",
    "        print(\"Please pay 7 euros\")\n",
    "    else:\n",
    "        print(\"Please pay 5 euros\")\n",
    "else:\n",
    "    print(\"You are too small\")"
   ]
  },
  {
   "cell_type": "code",
   "execution_count": 12,
   "metadata": {},
   "outputs": [
    {
     "name": "stdout",
     "output_type": "stream",
     "text": [
      "Your BMI is 29.0, you are overweight\n"
     ]
    }
   ],
   "source": [
    "h=float(input(\"height in m:\"))\n",
    "w=float(input(\"weight in kg: \"))\n",
    "BMI=round(w/h**2,0)\n",
    "if BMI>=35:\n",
    "    print(f\"Your BMI is {BMI}, you are clinically obese\")\n",
    "elif BMI>=30:\n",
    "    print(f\"Your BMI is {BMI}, you are obese\")\n",
    "elif BMI>=25:\n",
    "    print(f\"Your BMI is {BMI}, you are overweight\")\n",
    "elif BMI>=25:\n",
    "    print(f\"Your BMI is {BMI}, you are normal weight\")\n",
    "else:\n",
    "    print(f\"Your BMI is {BMI}, you are under weight\")"
   ]
  },
  {
   "cell_type": "code",
   "execution_count": 17,
   "metadata": {},
   "outputs": [
    {
     "name": "stdout",
     "output_type": "stream",
     "text": [
      "Not a leap\n"
     ]
    }
   ],
   "source": [
    "year=int(input(\"What year you want to check?\"))\n",
    "if year%4==0:\n",
    "    if year%100==0:\n",
    "        if year%400==0:\n",
    "            print(\"Leap\")\n",
    "        else:\n",
    "            print(\"Not a leap\")\n",
    "    else:\n",
    "        print(\"Leap\")\n",
    "else:\n",
    "    print(\"Not a leap\")\n",
    "    "
   ]
  },
  {
   "cell_type": "code",
   "execution_count": 20,
   "metadata": {},
   "outputs": [
    {
     "name": "stdout",
     "output_type": "stream",
     "text": [
      "Total amount 8 euros\n"
     ]
    }
   ],
   "source": [
    "bill=0\n",
    "height=int(input(\"What is your height in cm?\"))\n",
    "if height >= 120:\n",
    "    age=int(input(\"How old are you?\"))\n",
    "    if age >=18:\n",
    "        bill=12\n",
    "        if input(\"Do you want photo? y/n?\")=='y':\n",
    "            bill+=3\n",
    "            print(f\"Total amount {bill} euros\")\n",
    "        else:\n",
    "            print(f\"Total amount {bill} euros\")\n",
    "    elif age>=12:\n",
    "        bill=7\n",
    "        if input(\"Do you want photo? y/n?\")=='y':\n",
    "            bill+=3\n",
    "            print(f\"Total amount {bill} euros\")\n",
    "        else:\n",
    "            print(f\"Total amount {bill} euros\")\n",
    "    else:\n",
    "        bill=5\n",
    "        if input(\"Do you want photo? y/n?\")=='y':\n",
    "            bill+=3\n",
    "            print(f\"Total amount {bill} euros\")\n",
    "        else:\n",
    "            print(f\"Total amount {bill} euros\")\n",
    "else:\n",
    "    print(\"You are too small\")"
   ]
  },
  {
   "cell_type": "code",
   "execution_count": 24,
   "metadata": {},
   "outputs": [
    {
     "name": "stdout",
     "output_type": "stream",
     "text": [
      "Welcome to pizza shop\n",
      "bill is 24\n"
     ]
    }
   ],
   "source": [
    "print(\"Welcome to pizza shop\")\n",
    "size=input(\"What size pizza? S,M or L?\")\n",
    "add_pepperoni=input(\"Do you want pepperoni y/n?\")\n",
    "extra_cheese=input(\"Do you want extra cheese y/n?\")\n",
    "if size.lower()=='s':\n",
    "    bill=15\n",
    "    if add_pepperoni.lower()=='y':\n",
    "        bill+=2\n",
    "    if extra_cheese.lower()=='y':\n",
    "        bill+=1\n",
    "    print(f'bill is {bill}')\n",
    "elif size.lower()=='m':\n",
    "    bill=20\n",
    "    if add_pepperoni.lower()=='y':\n",
    "        bill+=3\n",
    "    if extra_cheese.lower()=='y':\n",
    "        bill+=1\n",
    "    print(f'bill is {bill}')\n",
    "else:\n",
    "    bill=25\n",
    "    if add_pepperoni.lower()=='y':\n",
    "        bill+=3\n",
    "    if extra_cheese.lower()=='y':\n",
    "        bill+=1\n",
    "    print(f'bill is {bill}')"
   ]
  },
  {
   "cell_type": "code",
   "execution_count": 1,
   "metadata": {},
   "outputs": [
    {
     "data": {
      "text/plain": [
       "False"
      ]
     },
     "execution_count": 1,
     "metadata": {},
     "output_type": "execute_result"
    }
   ],
   "source": [
    "a=16\n",
    "not a>15"
   ]
  },
  {
   "cell_type": "code",
   "execution_count": 8,
   "metadata": {},
   "outputs": [
    {
     "name": "stdout",
     "output_type": "stream",
     "text": [
      "Total amount 3 euros\n"
     ]
    }
   ],
   "source": [
    "height=int(input(\"What is your height in cm?\"))\n",
    "if height >= 120:\n",
    "    age=int(input(\"How old are you?\"))\n",
    "    if age>=45 and age <=55:\n",
    "        bill=0\n",
    "    elif age >=18:\n",
    "        bill=12\n",
    "    elif age>=12:\n",
    "        bill=7\n",
    "    else:\n",
    "        bill=5\n",
    "    if input(\"Do you want photo? y/n?\")=='y':\n",
    "        bill+=3\n",
    "        print(f\"Total amount {bill} euros\")\n",
    "    else:\n",
    "        print(f\"Total amount {bill} euros\")\n",
    "else:\n",
    "    print(\"You are too small\")"
   ]
  },
  {
   "cell_type": "code",
   "execution_count": 15,
   "metadata": {},
   "outputs": [
    {
     "name": "stdout",
     "output_type": "stream",
     "text": [
      "Your score is 42, you are alright\n"
     ]
    }
   ],
   "source": [
    "name1=input(\"Your name\")\n",
    "name2=input(\"Their name\")\n",
    "\n",
    "names=name1.lower()+name2.lower()\n",
    "\n",
    "true=names.count('t')\n",
    "true+=names.count('r')\n",
    "true+=names.count('u')\n",
    "true+=names.count('e')\n",
    "\n",
    "love=names.count('l')\n",
    "love+=names.count('o')\n",
    "love+=names.count('v')\n",
    "love+=names.count('e')\n",
    "\n",
    "score=int(str(true)+str(love))\n",
    "if score<=10 or score>=90:\n",
    "    print(f'Your score is {score}, you go together like coke and mentos')\n",
    "elif score>=40 and score<=50:\n",
    "    print(f'Your score is {score}, you are alright')\n",
    "else:\n",
    "    print(f'Your score is {score}')"
   ]
  },
  {
   "cell_type": "code",
   "execution_count": 17,
   "metadata": {},
   "outputs": [
    {
     "name": "stdout",
     "output_type": "stream",
     "text": [
      "Welcome\n",
      "You win!\n"
     ]
    }
   ],
   "source": [
    "print(\"Welcome\")\n",
    "if input(\"You wanna go left or right l/r?\").lower()=='l':\n",
    "    if input(\"You come across lake, swim or wait s/w?\").lower()=='w':\n",
    "        door=input(\"You get carried over by a boat and come to a place red door, blue door and yellow foor, which do you choose r/b/y?\").lower()\n",
    "        if door=='y':\n",
    "            print('You win!')\n",
    "        elif door=='r':\n",
    "            print(\"Room with fire, game over\")\n",
    "        else:\n",
    "            print(\"There's beasts, game over\")\n",
    "    else:\n",
    "        print(\"Game over\")\n",
    "else:\n",
    "    print(\"Game over\")"
   ]
  },
  {
   "cell_type": "code",
   "execution_count": null,
   "metadata": {},
   "outputs": [],
   "source": []
  }
 ],
 "metadata": {
  "kernelspec": {
   "display_name": "Python 3.10.2 64-bit",
   "language": "python",
   "name": "python3"
  },
  "language_info": {
   "codemirror_mode": {
    "name": "ipython",
    "version": 3
   },
   "file_extension": ".py",
   "mimetype": "text/x-python",
   "name": "python",
   "nbconvert_exporter": "python",
   "pygments_lexer": "ipython3",
   "version": "3.10.2"
  },
  "orig_nbformat": 4,
  "vscode": {
   "interpreter": {
    "hash": "05f7a43266218249dcbe763517877636c6a690f049d6e8c7ff56026e13d2cf32"
   }
  }
 },
 "nbformat": 4,
 "nbformat_minor": 2
}
