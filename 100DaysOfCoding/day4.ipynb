{
 "cells": [
  {
   "cell_type": "code",
   "execution_count": 8,
   "metadata": {},
   "outputs": [
    {
     "name": "stdout",
     "output_type": "stream",
     "text": [
      "7\n",
      "3.1456\n"
     ]
    }
   ],
   "source": [
    "import random as rd\n",
    "import my_module\n",
    "\n",
    "random_integer=rd.randint(1,10)\n",
    "print(random_integer)\n",
    "print(my_module.pi)\n"
   ]
  },
  {
   "cell_type": "code",
   "execution_count": 2,
   "metadata": {},
   "outputs": [
    {
     "name": "stdout",
     "output_type": "stream",
     "text": [
      "0.33342235111087004\n"
     ]
    }
   ],
   "source": [
    "import random as rd\n",
    "random_float=rd.random()\n",
    "print(random_float)"
   ]
  },
  {
   "cell_type": "code",
   "execution_count": 11,
   "metadata": {},
   "outputs": [
    {
     "name": "stdout",
     "output_type": "stream",
     "text": [
      "3.17128265781923\n"
     ]
    }
   ],
   "source": [
    "import random as rd\n",
    "a=rd.randint(0,5)\n",
    "b=rd.random()\n",
    "print(b*a)"
   ]
  },
  {
   "cell_type": "code",
   "execution_count": 13,
   "metadata": {},
   "outputs": [
    {
     "name": "stdout",
     "output_type": "stream",
     "text": [
      "you love score is 31\n"
     ]
    }
   ],
   "source": [
    "love_score=rd.randint(0,100)\n",
    "print(f'you love score is {love_score}')"
   ]
  },
  {
   "cell_type": "code",
   "execution_count": 14,
   "metadata": {},
   "outputs": [
    {
     "name": "stdout",
     "output_type": "stream",
     "text": [
      "heads\n"
     ]
    }
   ],
   "source": [
    "import random as rd\n",
    "\n",
    "coin=rd.randint(1,2)\n",
    "if coin==1:\n",
    "    print('heads')\n",
    "else:\n",
    "    print('tails')"
   ]
  },
  {
   "cell_type": "code",
   "execution_count": 25,
   "metadata": {},
   "outputs": [
    {
     "name": "stdout",
     "output_type": "stream",
     "text": [
      "Maine\n",
      "Pennsylvania\n",
      "Hawaii\n",
      "Pencilvania\n",
      "['Delaware', 'Pencilvania', 'New Jersey', 'Georgia', 'Connecticut', 'Massachusetts', 'Maryland', 'South Carolina', 'New Hampshire', 'Virginia', 'New York', 'North Carolina', 'Rhode Island', 'Vermont', 'Kentucky', 'Tennessee', 'Ohio', 'Louisiana', 'Indiana', 'Mississippi', 'Illinois', 'Alabama', 'Maine', 'Missouri', 'Arkansas', 'Michigan', 'Florida', 'Texas', 'Iowa', 'Wisconsin', 'California', 'Minnesota', 'Oregon', 'Kansas', 'West Virginia', 'Nevada', 'Nebraska', 'Colorado', 'North Dakota', 'South Dakota', 'Montana', 'Washington', 'Idaho', 'Wyoming', 'Utah', 'Oklahoma', 'New Mexico', 'Arizona', 'Alaska', 'Hawaii', 'Einoland']\n",
      "['Delaware', 'Pencilvania', 'New Jersey', 'Georgia', 'Connecticut', 'Massachusetts', 'Maryland', 'South Carolina', 'New Hampshire', 'Virginia', 'New York', 'North Carolina', 'Rhode Island', 'Vermont', 'Kentucky', 'Tennessee', 'Ohio', 'Louisiana', 'Indiana', 'Mississippi', 'Illinois', 'Alabama', 'Maine', 'Missouri', 'Arkansas', 'Michigan', 'Florida', 'Texas', 'Iowa', 'Wisconsin', 'California', 'Minnesota', 'Oregon', 'Kansas', 'West Virginia', 'Nevada', 'Nebraska', 'Colorado', 'North Dakota', 'South Dakota', 'Montana', 'Washington', 'Idaho', 'Wyoming', 'Utah', 'Oklahoma', 'New Mexico', 'Arizona', 'Alaska', 'Hawaii', 'Einoland', 'Einomaa', 'Einopaikka']\n"
     ]
    }
   ],
   "source": [
    "states_of_america = [\"Delaware\", \"Pennsylvania\", \"New Jersey\", \"Georgia\", \"Connecticut\", \"Massachusetts\", \"Maryland\", \"South Carolina\", \"New Hampshire\", \"Virginia\", \"New York\", \"North Carolina\", \"Rhode Island\", \"Vermont\", \"Kentucky\", \"Tennessee\", \"Ohio\", \"Louisiana\", \"Indiana\", \"Mississippi\", \"Illinois\", \"Alabama\", \"Maine\", \"Missouri\", \"Arkansas\", \"Michigan\", \"Florida\", \"Texas\", \"Iowa\", \"Wisconsin\", \"California\", \"Minnesota\", \"Oregon\", \"Kansas\", \"West Virginia\", \"Nevada\", \"Nebraska\", \"Colorado\", \"North Dakota\", \"South Dakota\", \"Montana\", \"Washington\", \"Idaho\", \"Wyoming\", \"Utah\", \"Oklahoma\", \"New Mexico\", \"Arizona\", \"Alaska\", \"Hawaii\"]\n",
    "\n",
    "print(rd.choice(states_of_america))\n",
    "print(states_of_america[1])\n",
    "print(states_of_america[-1])\n",
    "states_of_america[1]=\"Pencilvania\"\n",
    "print(states_of_america[1])\n",
    "states_of_america.append(\"Einoland\")\n",
    "print(states_of_america)\n",
    "states_of_america.extend([\"Einomaa\",\"Einopaikka\"])\n",
    "print(states_of_america)"
   ]
  },
  {
   "cell_type": "code",
   "execution_count": 18,
   "metadata": {},
   "outputs": [],
   "source": [
    "fruits=[\"Cherry\",\"Apple\",\"Orange\"]"
   ]
  },
  {
   "cell_type": "code",
   "execution_count": 29,
   "metadata": {},
   "outputs": [
    {
     "name": "stdout",
     "output_type": "stream",
     "text": [
      "The one who should pay is johanna\n"
     ]
    }
   ],
   "source": [
    "import random as rd\n",
    "\n",
    "a=input(\"Please input all eater separated by comma ','\")\n",
    "a=a.split(\",\")\n",
    "print(f\"The one who should pay is {rd.choice(a)}\")"
   ]
  },
  {
   "cell_type": "code",
   "execution_count": 31,
   "metadata": {},
   "outputs": [
    {
     "name": "stdout",
     "output_type": "stream",
     "text": [
      "eino\n"
     ]
    }
   ],
   "source": [
    "import random as rd\n",
    "\n",
    "a=input(\"Please input all eater separated by comma ','\")\n",
    "a=a.split(\",\")\n",
    "c=rd.randint(0,len(a)-1)\n",
    "print(a[c])"
   ]
  },
  {
   "cell_type": "code",
   "execution_count": 32,
   "metadata": {},
   "outputs": [
    {
     "name": "stdout",
     "output_type": "stream",
     "text": [
      "50\n"
     ]
    }
   ],
   "source": [
    "states_of_america = [\"Delaware\", \"Pennsylvania\", \"New Jersey\", \"Georgia\", \"Connecticut\", \"Massachusetts\", \"Maryland\", \"South Carolina\", \"New Hampshire\", \"Virginia\", \"New York\", \"North Carolina\", \"Rhode Island\", \"Vermont\", \"Kentucky\", \"Tennessee\", \"Ohio\", \"Louisiana\", \"Indiana\", \"Mississippi\", \"Illinois\", \"Alabama\", \"Maine\", \"Missouri\", \"Arkansas\", \"Michigan\", \"Florida\", \"Texas\", \"Iowa\", \"Wisconsin\", \"California\", \"Minnesota\", \"Oregon\", \"Kansas\", \"West Virginia\", \"Nevada\", \"Nebraska\", \"Colorado\", \"North Dakota\", \"South Dakota\", \"Montana\", \"Washington\", \"Idaho\", \"Wyoming\", \"Utah\", \"Oklahoma\", \"New Mexico\", \"Arizona\", \"Alaska\", \"Hawaii\"]\n",
    "\n",
    "states=len(states_of_america)\n",
    "\n",
    "print(states)"
   ]
  },
  {
   "cell_type": "code",
   "execution_count": 37,
   "metadata": {},
   "outputs": [
    {
     "name": "stdout",
     "output_type": "stream",
     "text": [
      "[['Starwberries', 'Nectarines'], ['Spinach', 'Kale']]\n",
      "[['Starwberries', 'Nectarines', 'Spinach', 'Kale']]\n",
      "[['Starwberries', 'Nectarines'], ['Spinach', 'Kale', 'Spinach', 'Kale']]\n"
     ]
    }
   ],
   "source": [
    "fruits=[\"Starwberries\",\"Nectarines\"]\n",
    "vegetables=[\"Spinach\",\"Kale\"]\n",
    "\n",
    "combined=[fruits,vegetables]\n",
    "combined2=[fruits+vegetables]\n",
    "combined3=[fruits,vegetables+vegetables]\n",
    "print(combined)\n",
    "print(combined2)\n",
    "print(combined3)"
   ]
  },
  {
   "cell_type": "code",
   "execution_count": 65,
   "metadata": {},
   "outputs": [
    {
     "name": "stdout",
     "output_type": "stream",
     "text": [
      "['', '', '']\n",
      "['', '', '']\n",
      "['', '', '']\n",
      "['x', '', '']\n",
      "['', '', '']\n",
      "['', '', '']\n"
     ]
    }
   ],
   "source": [
    "row1=[\"\",\"\",\"\"]\n",
    "row2=[\"\",\"\",\"\"]\n",
    "row3=[\"\",\"\",\"\"]\n",
    "map=[row1,row2,row3]\n",
    "print(f\"{row1}\\n{row2}\\n{row3}\")\n",
    "a=input(\"Where do you want to put the treasure? Answer with 2 positional numbers from 1-3 starting with columns, ie. '12'\")\n",
    "horizontal=int(a[0])\n",
    "vertical=int(a[1])\n",
    "map[vertical-1][horizontal-1]=\"x\"\n",
    "\n",
    "print(f\"{row1}\\n{row2}\\n{row3}\")"
   ]
  },
  {
   "cell_type": "code",
   "execution_count": 7,
   "metadata": {},
   "outputs": [
    {
     "name": "stdout",
     "output_type": "stream",
     "text": [
      "You chose scissors and computer chose paper, you win!\n"
     ]
    }
   ],
   "source": [
    "import random as rd\n",
    "list=[\"paper\",\"Rock\",\"Scissors\"]\n",
    "computer=rd.choice(list)\n",
    "user=input(\"Welcome to rock,paper,scissors! Please select either 'rock', 'paper', or 'scissors'\")\n",
    "if user==\"rock\":\n",
    "    if computer.lower()==\"scissors\":\n",
    "        print(f\"You chose {user} and computer chose {computer}, you win!\")\n",
    "    elif computer.lower()==\"rock\":\n",
    "        print(f\"you both chose {user}, it's a draw\")\n",
    "    elif computer.lower()==\"paper\":\n",
    "        print(f\"You chose {user} and computer chose {computer}, you lose\")\n",
    "elif user==\"scissors\":\n",
    "    if computer.lower()==\"scissors\":\n",
    "        print(f\"you both chose {user}, it's a draw\")\n",
    "    elif computer.lower()==\"rock\":\n",
    "        print(f\"You chose {user} and computer chose {computer}, you lose\")\n",
    "    elif computer.lower()==\"paper\":\n",
    "        print(f\"You chose {user} and computer chose {computer}, you win!\")\n",
    "elif user.lower()==\"paper\":\n",
    "    if computer.lower()==\"scissors\":\n",
    "        print(f\"You chose {user} and computer chose {computer}, you lose\")\n",
    "    elif computer.lower()==\"rock\":\n",
    "        print(f\"You chose {user} and computer chose {computer}, you win!\")\n",
    "    elif computer.lower()==\"paper\":\n",
    "        print(f\"you both chose {user}, it's a draw\")\n",
    "else:\n",
    "    print(\"Invalid input, game cancelled\")"
   ]
  },
  {
   "cell_type": "code",
   "execution_count": 8,
   "metadata": {},
   "outputs": [
    {
     "name": "stdout",
     "output_type": "stream",
     "text": [
      "You win!\n"
     ]
    }
   ],
   "source": [
    "import random\n",
    "\n",
    "user_choice = int(input(\"What do you choose? Type 0 for Rock, 1 for Paper or 2 for Scissors.\\n\"))\n",
    "\n",
    "computer_choice = random.randint(0, 2)\n",
    "\n",
    "if user_choice >= 3 or user_choice < 0: \n",
    "  print(\"You typed an invalid number, you lose!\") \n",
    "elif user_choice == 0 and computer_choice == 2:\n",
    "  print(\"You win!\")\n",
    "elif computer_choice == 0 and user_choice == 2:\n",
    "  print(\"You lose\")\n",
    "elif computer_choice > user_choice:\n",
    "  print(\"You lose\")\n",
    "elif user_choice > computer_choice:\n",
    "  print(\"You win!\")\n",
    "elif computer_choice == user_choice:\n",
    "  print(\"It's a draw\")"
   ]
  },
  {
   "cell_type": "code",
   "execution_count": null,
   "metadata": {},
   "outputs": [],
   "source": []
  }
 ],
 "metadata": {
  "kernelspec": {
   "display_name": "Python 3.10.2 64-bit",
   "language": "python",
   "name": "python3"
  },
  "language_info": {
   "codemirror_mode": {
    "name": "ipython",
    "version": 3
   },
   "file_extension": ".py",
   "mimetype": "text/x-python",
   "name": "python",
   "nbconvert_exporter": "python",
   "pygments_lexer": "ipython3",
   "version": "3.10.2"
  },
  "orig_nbformat": 4,
  "vscode": {
   "interpreter": {
    "hash": "05f7a43266218249dcbe763517877636c6a690f049d6e8c7ff56026e13d2cf32"
   }
  }
 },
 "nbformat": 4,
 "nbformat_minor": 2
}
