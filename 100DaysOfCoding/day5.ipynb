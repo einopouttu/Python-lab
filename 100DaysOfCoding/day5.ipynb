{
 "cells": [
  {
   "cell_type": "code",
   "execution_count": null,
   "metadata": {},
   "outputs": [],
   "source": []
  }
 ],
 "metadata": {
  "kernelspec": {
   "display_name": "Python 3.10.2 64-bit",
   "language": "python",
   "name": "python3"
  },
  "language_info": {
   "name": "python",
   "version": "3.10.2"
  },
  "orig_nbformat": 4,
  "vscode": {
   "interpreter": {
    "hash": "05f7a43266218249dcbe763517877636c6a690f049d6e8c7ff56026e13d2cf32"
   }
  }
 },
 "nbformat": 4,
 "nbformat_minor": 2
}
