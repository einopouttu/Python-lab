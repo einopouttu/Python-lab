{
 "cells": [
  {
   "cell_type": "code",
   "execution_count": 12,
   "metadata": {},
   "outputs": [
    {
     "name": "stdout",
     "output_type": "stream",
     "text": [
      "['_', '_', '_', '_', '_', '_']\n",
      "\u001b[H\u001b[2Ja _ _ a _ _\n",
      "\u001b[H\u001b[2Ja _ _ a _ _\n",
      "You've guessed m, that's not correct, you lose a life\n",
      "\u001b[H\u001b[2Ja _ _ a _ _\n",
      "You've guessed e, that's not correct, you lose a life\n",
      "\u001b[H\u001b[2Ja d _ a _ _\n",
      "\u001b[H\u001b[2Ja d _ a _ _\n",
      "You've guessed o, that's not correct, you lose a life\n",
      "\u001b[H\u001b[2Ja d v a _ _\n",
      "\u001b[H\u001b[2Ja d v a _ k\n",
      "\u001b[H\u001b[2Ja d v a r k\n",
      "You win\n"
     ]
    }
   ],
   "source": [
    "import random as rd\n",
    "word_list=[\"advark\",\"baboon\",\"camel\"]\n",
    "chosen_word=rd.choice(word_list)\n",
    "display=[]\n",
    "word_length=len(chosen_word)\n",
    "for _ in chosen_word:\n",
    "    display+=\"_\"\n",
    "print(display)\n",
    "lives=6\n",
    "end_of_game=False\n",
    "while not end_of_game:\n",
    "    guess=input(\"Guess a letter\").lower()\n",
    "    clear()\n",
    "    if guess in display:\n",
    "        print(f\"You've already guessed {guess}\")\n",
    "    for position in range(word_length):\n",
    "        letter=chosen_word[position]\n",
    "        if letter==guess:\n",
    "            display[position]=letter\n",
    "    print(f\"{' '.join(display)}\")\n",
    "    if guess not in chosen_word:\n",
    "        print(f\"You've guessed {guess}, that's not correct, you lose a life\")\n",
    "        lives-=1\n",
    "        if lives==0:\n",
    "            end_of_game=True\n",
    "            print(\"You lose\")\n",
    "    if '_' not in display:\n",
    "        end_of_game=True\n",
    "        print(\"You win\")"
   ]
  },
  {
   "cell_type": "code",
   "execution_count": null,
   "metadata": {},
   "outputs": [],
   "source": []
  },
  {
   "cell_type": "code",
   "execution_count": null,
   "metadata": {},
   "outputs": [],
   "source": []
  }
 ],
 "metadata": {
  "kernelspec": {
   "display_name": "Python 3.10.2 64-bit",
   "language": "python",
   "name": "python3"
  },
  "language_info": {
   "codemirror_mode": {
    "name": "ipython",
    "version": 3
   },
   "file_extension": ".py",
   "mimetype": "text/x-python",
   "name": "python",
   "nbconvert_exporter": "python",
   "pygments_lexer": "ipython3",
   "version": "3.10.2"
  },
  "orig_nbformat": 4,
  "vscode": {
   "interpreter": {
    "hash": "05f7a43266218249dcbe763517877636c6a690f049d6e8c7ff56026e13d2cf32"
   }
  }
 },
 "nbformat": 4,
 "nbformat_minor": 2
}
