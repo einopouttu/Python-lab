{
 "cells": [
  {
   "cell_type": "code",
   "execution_count": 1,
   "metadata": {},
   "outputs": [
    {
     "name": "stdout",
     "output_type": "stream",
     "text": [
      "Hello\n",
      "I'm\n",
      "Eino\n"
     ]
    }
   ],
   "source": [
    "def greet():\n",
    "    print(\"Hello\")\n",
    "    print(\"I'm\")\n",
    "    print(\"Eino\")\n",
    "\n",
    "greet()"
   ]
  },
  {
   "cell_type": "code",
   "execution_count": 5,
   "metadata": {},
   "outputs": [
    {
     "name": "stdout",
     "output_type": "stream",
     "text": [
      "Hello Eino\n",
      "Hello someone\n",
      "Hello 123\n"
     ]
    }
   ],
   "source": [
    "def my_function(something):\n",
    "    print(f\"Hello {something}\")\n",
    "\n",
    "my_function(\"Eino\")\n",
    "my_function(\"someone\")\n",
    "my_function(123)"
   ]
  },
  {
   "cell_type": "code",
   "execution_count": 9,
   "metadata": {},
   "outputs": [
    {
     "name": "stdout",
     "output_type": "stream",
     "text": [
      "Hello Eino from Finland\n",
      "Hello Someone from Somewhere\n",
      "Hello Eino from Finland\n"
     ]
    }
   ],
   "source": [
    "def greet_with(name,location):\n",
    "    print(f\"Hello {name} from {location}\")\n",
    "\n",
    "greet_with(\"Eino\",\"Finland\")\n",
    "greet_with(\"Someone\",\"Somewhere\")\n",
    "greet_with(location=\"Finland\",name=\"Eino\")"
   ]
  },
  {
   "cell_type": "code",
   "execution_count": 11,
   "metadata": {},
   "outputs": [
    {
     "name": "stdout",
     "output_type": "stream",
     "text": [
      "You need 2 cans of paint\n"
     ]
    }
   ],
   "source": [
    "import math\n",
    "test_h=int(input(\"Height of wall in meters: \"))\n",
    "test_w=int(input(\"Width of wall in meters: \"))\n",
    "coverage=5\n",
    "\n",
    "def number_of_cans(h,w):\n",
    "    print(f\"You need {math.ceil(h*w/coverage)} cans of paint\")\n",
    "    \n",
    "number_of_cans(test_h,test_w)"
   ]
  },
  {
   "cell_type": "code",
   "execution_count": 21,
   "metadata": {},
   "outputs": [
    {
     "name": "stdout",
     "output_type": "stream",
     "text": [
      "Prime number\n"
     ]
    }
   ],
   "source": [
    "a=int(input(\"Welcome to prime number checker, which number you wanto to check?\"))\n",
    "def prime_number(n):\n",
    "    counter=0\n",
    "    for i in range (1,n+1):\n",
    "        if n%i==0:\n",
    "            counter+=1\n",
    "    if counter>2:\n",
    "        print(\"Not a prime number\")\n",
    "    else:\n",
    "        print(\"Prime number\")\n",
    "        \n",
    "prime_number(a)"
   ]
  },
  {
   "cell_type": "code",
   "execution_count": 25,
   "metadata": {},
   "outputs": [
    {
     "name": "stdout",
     "output_type": "stream",
     "text": [
      "Not a prime number\n"
     ]
    }
   ],
   "source": [
    "def prime_checker(number):\n",
    "    is_prime=True\n",
    "    for i in range(2,number):\n",
    "        if number%i==0:\n",
    "            is_prime=False\n",
    "    if is_prime==True:\n",
    "        print(\"Prime number\")\n",
    "    else:\n",
    "        print(\"Not a prime number\")\n",
    "a=int(input(\"Welcome to prime number checker, which number you wanto to check?\"))\n",
    "prime_checker(a)"
   ]
  },
  {
   "cell_type": "code",
   "execution_count": 6,
   "metadata": {},
   "outputs": [
    {
     "name": "stdout",
     "output_type": "stream",
     "text": [
      "The decoded text is: hello\n"
     ]
    }
   ],
   "source": [
    "alphabet = ['a', 'b', 'c', 'd', 'e', 'f', 'g', 'h', 'i', 'j', 'k', 'l', 'm', 'n', 'o', 'p', 'q', 'r', 's', 't', 'u', 'v', 'w', 'x', 'y', 'z','a', 'b', 'c', 'd', 'e', 'f', 'g', 'h', 'i', 'j', 'k', 'l', 'm', 'n', 'o', 'p', 'q', 'r', 's', 't', 'u', 'v', 'w', 'x', 'y', 'z']\n",
    "direction=input(\"please enter 'decode' to decode and 'encode' to encode\")\n",
    "text=input(\"Type your message: \")\n",
    "shift=int(input(\"Type shift number: \"))\n",
    "\n",
    "def encrypt(plain_text, shift_amount):\n",
    "    cipher_text=\"\"\n",
    "    for letter in text:\n",
    "        position=alphabet.index(letter)\n",
    "        new_position=position+shift_amount\n",
    "        new_letter=alphabet[new_position]\n",
    "        cipher_text+=new_letter\n",
    "    print(f\"The encoded text is: {cipher_text}\")\n",
    "        \n",
    "def decode(plain_text,shift_amount):\n",
    "    cipher_text=\"\"\n",
    "    for letter in text:\n",
    "        position=alphabet.index(letter)\n",
    "        new_position=position-shift_amount\n",
    "        new_letter=alphabet[new_position]\n",
    "        cipher_text+=new_letter\n",
    "    print(f\"The decoded text is: {cipher_text}\")\n",
    "\n",
    "if direction.lower()=='encode':\n",
    "    encrypt(text,shift)\n",
    "elif direction.lower()=='decode':\n",
    "    decode(text,shift)\n",
    "else:\n",
    "    print(\"Invalid direction\")    "
   ]
  },
  {
   "cell_type": "code",
   "execution_count": 15,
   "metadata": {},
   "outputs": [
    {
     "name": "stdout",
     "output_type": "stream",
     "text": [
      "the encoded text is dahhk\n",
      "the decoded text is hello\n",
      "Goodbye\n"
     ]
    }
   ],
   "source": [
    "alphabet = ['a', 'b', 'c', 'd', 'e', 'f', 'g', 'h', 'i', 'j', 'k', 'l', 'm', 'n', 'o', 'p', 'q', 'r', 's', 't', 'u', 'v', 'w', 'x', 'y', 'z','a', 'b', 'c', 'd', 'e', 'f', 'g', 'h', 'i', 'j', 'k', 'l', 'm', 'n', 'o', 'p', 'q', 'r', 's', 't', 'u', 'v', 'w', 'x', 'y', 'z']\n",
    "\n",
    "def caesar(text,shift,direction):\n",
    "    end_text=\"\"\n",
    "    if direction==\"decode\":\n",
    "        shift*=-1\n",
    "    for letter in text:\n",
    "        if letter in alphabet:\n",
    "            position=alphabet.index(letter)\n",
    "            new_position=position+shift\n",
    "            end_text+=alphabet[new_position]\n",
    "        else:\n",
    "            text+=letter\n",
    "    print(f\"the {direction}d text is {end_text}\")\n",
    "\n",
    "should_end=False\n",
    "while not should_end:\n",
    "    direction=input(\"please enter 'decode' to decode and 'encode' to encode\")\n",
    "    text=input(\"Type your message: \")\n",
    "    shift=int(input(\"Type shift number: \"))%26\n",
    "    caesar(text,shift,direction)\n",
    "    restart=input(\"Do you wanna go again? type 'y' for yes and 'n' for no.\")\n",
    "    if restart.lower()==\"n\":\n",
    "        should_end=True\n",
    "        print(\"Goodbye\")"
   ]
  },
  {
   "cell_type": "code",
   "execution_count": null,
   "metadata": {},
   "outputs": [],
   "source": []
  }
 ],
 "metadata": {
  "kernelspec": {
   "display_name": "Python 3.10.2 64-bit",
   "language": "python",
   "name": "python3"
  },
  "language_info": {
   "codemirror_mode": {
    "name": "ipython",
    "version": 3
   },
   "file_extension": ".py",
   "mimetype": "text/x-python",
   "name": "python",
   "nbconvert_exporter": "python",
   "pygments_lexer": "ipython3",
   "version": "3.10.2"
  },
  "orig_nbformat": 4,
  "vscode": {
   "interpreter": {
    "hash": "05f7a43266218249dcbe763517877636c6a690f049d6e8c7ff56026e13d2cf32"
   }
  }
 },
 "nbformat": 4,
 "nbformat_minor": 2
}
