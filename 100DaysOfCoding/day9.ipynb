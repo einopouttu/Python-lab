{
 "cells": [
  {
   "cell_type": "code",
   "execution_count": 7,
   "metadata": {},
   "outputs": [
    {
     "name": "stdout",
     "output_type": "stream",
     "text": [
      "An error in a program that prevents the program from running as expected.\n"
     ]
    }
   ],
   "source": [
    "#create dictionary\n",
    "programming_dictionary = {\n",
    "    \"Bug\": \"An error in a program that prevents the program from running as expected.\"\n",
    "    ,\"Function\": \"A piece of code that you can easily call over and over again.\"\n",
    "}\n",
    "print(programming_dictionary[\"Bug\"])"
   ]
  },
  {
   "cell_type": "code",
   "execution_count": 8,
   "metadata": {},
   "outputs": [
    {
     "name": "stdout",
     "output_type": "stream",
     "text": [
      "{'Bug': 'An error in a program that prevents the program from running as expected.', 'Function': 'A piece of code that you can easily call over and over again.', 'Loop': 'The action of doing something over and over again.'}\n"
     ]
    }
   ],
   "source": [
    "#Add\n",
    "programming_dictionary[\"Loop\"]=\"The action of doing something over and over again.\"\n",
    "print(programming_dictionary)"
   ]
  },
  {
   "cell_type": "code",
   "execution_count": 6,
   "metadata": {},
   "outputs": [
    {
     "name": "stdout",
     "output_type": "stream",
     "text": [
      "{}\n"
     ]
    }
   ],
   "source": [
    "#create empty\n",
    "empty_dictionary={}\n",
    "programming_dictionary={}\n",
    "print(programming_dictionary)"
   ]
  },
  {
   "cell_type": "code",
   "execution_count": 9,
   "metadata": {},
   "outputs": [
    {
     "name": "stdout",
     "output_type": "stream",
     "text": [
      "{'Bug': 'A bug in your computer', 'Function': 'A piece of code that you can easily call over and over again.', 'Loop': 'The action of doing something over and over again.'}\n"
     ]
    }
   ],
   "source": [
    "#Edit\n",
    "programming_dictionary[\"Bug\"]=\"A bug in your computer\"\n",
    "print(programming_dictionary)"
   ]
  },
  {
   "cell_type": "code",
   "execution_count": 11,
   "metadata": {},
   "outputs": [
    {
     "name": "stdout",
     "output_type": "stream",
     "text": [
      "Bug\n",
      "A bug in your computer\n",
      "Function\n",
      "A piece of code that you can easily call over and over again.\n",
      "Loop\n",
      "The action of doing something over and over again.\n"
     ]
    }
   ],
   "source": [
    "#Loop through dictionary\n",
    "for key in programming_dictionary:\n",
    "    print(key)\n",
    "    print(programming_dictionary[key])"
   ]
  },
  {
   "cell_type": "code",
   "execution_count": 12,
   "metadata": {},
   "outputs": [
    {
     "name": "stdout",
     "output_type": "stream",
     "text": [
      "{'Harry': 'Exceeds Expectations', 'Ron': 'Acceptable', 'Hermione': 'Outstanding', 'Draco': 'Acceptable', 'Neville': 'Fail'}\n"
     ]
    }
   ],
   "source": [
    "student_scores = {\n",
    "  \"Harry\": 81,\n",
    "  \"Ron\": 78,\n",
    "  \"Hermione\": 99, \n",
    "  \"Draco\": 74,\n",
    "  \"Neville\": 62,\n",
    "}\n",
    "# Don't change the code above 👆\n",
    "\n",
    "#TODO-1: Create an empty dictionary called student_grades.\n",
    "\n",
    "student_grades={}\n",
    "      \n",
    "\n",
    "#TODO-2: Write your code below to add the grades to student_grades.👇\n",
    "\n",
    "for student in student_scores:\n",
    "    if student_scores[student]>=91:\n",
    "        student_grades[student]=\"Outstanding\"\n",
    "    elif student_scores[student]>=81:\n",
    "        student_grades[student]=\"Exceeds Expectations\"\n",
    "    elif student_scores[student]>=71:\n",
    "        student_grades[student]=\"Acceptable\"\n",
    "    else:\n",
    "        student_grades[student]=\"Fail\"\n",
    "    \n",
    "\n",
    "# 🚨 Don't change the code below 👇\n",
    "print(student_grades)"
   ]
  },
  {
   "cell_type": "code",
   "execution_count": 13,
   "metadata": {},
   "outputs": [
    {
     "name": "stdout",
     "output_type": "stream",
     "text": [
      "{'France': {'Paris': 3, 'Lille': 2, 'Dijon': 1}, 'Germany': {'Berlin': 3, 'Hamburg': 2, 'Stuttgart': 1}}\n"
     ]
    }
   ],
   "source": [
    "capitals={\n",
    "    \"France\":\"Paris\"\n",
    "    ,\"Germany\":\"Berlin\"\n",
    "}\n",
    "\n",
    "#Nesting a list in a dictionary\n",
    "\n",
    "travel_log={\n",
    "    \"France\":[\"Paris\",\"Lille\",\"Dijon\"]\n",
    "    ,\"Germany\":[\"Berlin\",\"Hamburg\",\"Stuttgart\"]\n",
    "}\n",
    "\n",
    "#Nesting dictionary in a dictionary\n",
    "\n",
    "travel_log={\n",
    "    \"France\":{\"cities_visited\":[\"Paris\",\"Lille\",\"Dijon\"],\"total_visits\":12}\n",
    "    ,\"Germany\":{\"cities_visited\":[\"Berlin\",\"Hamburg\",\"Stuttgart\"],\"total_visits\":5}\n",
    "}\n",
    "\n",
    "#Nesting dictionary in a list\n",
    "\n",
    "travel_log=[\n",
    "    {\n",
    "        \"Country\":\"France\"\n",
    "        ,\"cities_visited\":[\"Paris\",\"Lille\",\"Dijon\"]\n",
    "        ,\"total_visits\":12\n",
    "    }\n",
    "    ,{\n",
    "        \"Country\":\"Germany\"\n",
    "        ,\"cities_visited\":[\"Berlin\",\"Hamburg\",\"Stuttgart\"]\n",
    "        ,\"total_visits\":5\n",
    "    }\n",
    "]\n",
    "\n"
   ]
  },
  {
   "cell_type": "code",
   "execution_count": 14,
   "metadata": {},
   "outputs": [
    {
     "name": "stdout",
     "output_type": "stream",
     "text": [
      "[{'country': 'France', 'visits': 12, 'cities': ['Paris', 'Lille', 'Dijon']}, {'country': 'Germany', 'visits': 5, 'cities': ['Berlin', 'Hamburg', 'Stuttgart']}, {'country': 'Russia', 'visits': 2, 'cities': ['Moscow', 'Saint Petersburg']}]\n"
     ]
    }
   ],
   "source": [
    "from hashlib import new\n",
    "\n",
    "\n",
    "travel_log = [\n",
    "{\n",
    "  \"country\": \"France\",\n",
    "  \"visits\": 12,\n",
    "  \"cities\": [\"Paris\", \"Lille\", \"Dijon\"]\n",
    "},\n",
    "{\n",
    "  \"country\": \"Germany\",\n",
    "  \"visits\": 5,\n",
    "  \"cities\": [\"Berlin\", \"Hamburg\", \"Stuttgart\"]\n",
    "},\n",
    "]\n",
    "#🚨 Do NOT change the code above\n",
    "\n",
    "#TODO: Write the function that will allow new countries\n",
    "#to be added to the travel_log. 👇\n",
    "\n",
    "def add_new_country(country,visits,cities):\n",
    "    new_country={}\n",
    "    new_country[\"country\"]=country\n",
    "    new_country[\"visits\"]=visits\n",
    "    new_country[\"cities\"]=cities\n",
    "    travel_log.append(new_country)\n",
    "\n",
    "#🚨 Do not change the code below\n",
    "add_new_country(\"Russia\", 2, [\"Moscow\", \"Saint Petersburg\"])\n",
    "print(travel_log)\n",
    "\n",
    "\n",
    "programming_dictionary[\"Loop\"]=\"The action of doing something over and over again.\""
   ]
  },
  {
   "cell_type": "code",
   "execution_count": 8,
   "metadata": {},
   "outputs": [
    {
     "name": "stdout",
     "output_type": "stream",
     "text": [
      "Welcome to blind auction!\n",
      "\u001b[H\u001b[2Jthe winner is johanna with the bid of 3\n"
     ]
    }
   ],
   "source": [
    "from replit import clear\n",
    "\n",
    "print(\"Welcome to blind auction!\")\n",
    "\n",
    "all_bidders=False\n",
    "bidders={}\n",
    "\n",
    "def highest_bidder(biddings):\n",
    "    highest_bid=0\n",
    "    winner=\"\"\n",
    "    for bidder in biddings:\n",
    "        bid=biddings[bidder]\n",
    "        if bid>highest_bid:\n",
    "            highest_bid=bid\n",
    "            winner=bidder\n",
    "    print(f\"the winner is {winner} with the bid of {highest_bid}\")\n",
    "\n",
    "while not all_bidders:\n",
    "    name=input(\"What is your name?\")\n",
    "    price=int(input(\"What is your bid?\"))\n",
    "    bidders[name]=price\n",
    "    if input(\"Are there any other bidders? Type 'yes or 'no'.\")=='no':\n",
    "        all_bidders=True\n",
    "        highest_bidder(bidders)\n",
    "    else:\n",
    "        clear()   "
   ]
  },
  {
   "cell_type": "code",
   "execution_count": 9,
   "metadata": {},
   "outputs": [
    {
     "name": "stdout",
     "output_type": "stream",
     "text": [
      "the winner is Johanna with the bid of 3\n"
     ]
    }
   ],
   "source": [
    "def highest_bidder(biddings):\n",
    "    highest_bid=0\n",
    "    winner=\"\"\n",
    "    for bidder in biddings:\n",
    "        bid=biddings[bidder]\n",
    "        if bid>highest_bid:\n",
    "            highest_bid=bid\n",
    "            winner=bidder\n",
    "    print(f\"the winner is {winner} with the bid of {highest_bid}\")\n",
    "\n",
    "bids={\n",
    "    \"Eino\":2\n",
    "    ,\"Johanna\":3\n",
    "}\n",
    "\n",
    "highest_bidder(bids)"
   ]
  },
  {
   "cell_type": "code",
   "execution_count": null,
   "metadata": {},
   "outputs": [],
   "source": []
  }
 ],
 "metadata": {
  "kernelspec": {
   "display_name": "Python 3.10.2 64-bit",
   "language": "python",
   "name": "python3"
  },
  "language_info": {
   "codemirror_mode": {
    "name": "ipython",
    "version": 3
   },
   "file_extension": ".py",
   "mimetype": "text/x-python",
   "name": "python",
   "nbconvert_exporter": "python",
   "pygments_lexer": "ipython3",
   "version": "3.10.2"
  },
  "orig_nbformat": 4,
  "vscode": {
   "interpreter": {
    "hash": "05f7a43266218249dcbe763517877636c6a690f049d6e8c7ff56026e13d2cf32"
   }
  }
 },
 "nbformat": 4,
 "nbformat_minor": 2
}
