{
 "cells": [
  {
   "cell_type": "code",
   "execution_count": 1,
   "metadata": {},
   "outputs": [],
   "source": [
    "#Data \n",
    "revenue = [14574.49, 7606.46, 8611.41, 9175.41, 8058.65, 8105.44, 11496.28, 9766.09, 10305.32, 14379.96, 10713.97, 15433.50]\n",
    "expenses = [12051.82, 5695.07, 12319.20, 12089.72, 8658.57, 840.20, 3285.73, 5821.12, 6976.93, 16618.61, 10054.37, 3803.96]"
   ]
  },
  {
   "cell_type": "markdown",
   "metadata": {},
   "source": [
    "#Task1"
   ]
  },
  {
   "cell_type": "code",
   "execution_count": 11,
   "metadata": {},
   "outputs": [
    {
     "data": {
      "text/plain": [
       "[2522.67,\n",
       " 1911.3900000000003,\n",
       " -3707.790000000001,\n",
       " -2914.3099999999995,\n",
       " -599.9200000000001,\n",
       " 7265.24,\n",
       " 8210.550000000001,\n",
       " 3944.9700000000003,\n",
       " 3328.3899999999994,\n",
       " -2238.6500000000015,\n",
       " 659.5999999999985,\n",
       " 11629.54]"
      ]
     },
     "execution_count": 11,
     "metadata": {},
     "output_type": "execute_result"
    }
   ],
   "source": [
    "profit=list([])\n",
    "\n",
    "for i in range(0, len(revenue)):\n",
    "    profit.append(revenue[i]-expenses[i])\n",
    "profit"
   ]
  },
  {
   "cell_type": "code",
   "execution_count": 8,
   "metadata": {},
   "outputs": [],
   "source": [
    "import numpy as np"
   ]
  },
  {
   "cell_type": "code",
   "execution_count": 3,
   "metadata": {},
   "outputs": [
    {
     "data": {
      "text/plain": [
       "12"
      ]
     },
     "execution_count": 3,
     "metadata": {},
     "output_type": "execute_result"
    }
   ],
   "source": [
    "len(revenue)"
   ]
  },
  {
   "cell_type": "markdown",
   "metadata": {},
   "source": [
    "#Task2"
   ]
  },
  {
   "cell_type": "code",
   "execution_count": 17,
   "metadata": {},
   "outputs": [
    {
     "data": {
      "text/plain": [
       "[756.8,\n",
       " 573.42,\n",
       " -1112.34,\n",
       " -874.29,\n",
       " -179.98,\n",
       " 2179.57,\n",
       " 2463.17,\n",
       " 1183.49,\n",
       " 998.52,\n",
       " -671.6,\n",
       " 197.88,\n",
       " 3488.86]"
      ]
     },
     "execution_count": 17,
     "metadata": {},
     "output_type": "execute_result"
    }
   ],
   "source": [
    "tax=[round(i*0.3,2)for i in profit]\n",
    "tax"
   ]
  },
  {
   "cell_type": "code",
   "execution_count": 22,
   "metadata": {},
   "outputs": [
    {
     "data": {
      "text/plain": [
       "[1765.8700000000001,\n",
       " 1337.9700000000003,\n",
       " -2595.4500000000007,\n",
       " -2040.0199999999995,\n",
       " -419.94000000000005,\n",
       " 5085.67,\n",
       " 5747.380000000001,\n",
       " 2761.4800000000005,\n",
       " 2329.8699999999994,\n",
       " -1567.0500000000015,\n",
       " 461.71999999999855,\n",
       " 8140.68]"
      ]
     },
     "execution_count": 22,
     "metadata": {},
     "output_type": "execute_result"
    }
   ],
   "source": [
    "profitaftertax=list([])\n",
    "\n",
    "for i in range(0, len(profit)):\n",
    "    profitaftertax.append(profit[i]-tax[i])\n",
    "profitaftertax"
   ]
  },
  {
   "cell_type": "markdown",
   "metadata": {},
   "source": [
    "#Task3"
   ]
  },
  {
   "cell_type": "code",
   "execution_count": 33,
   "metadata": {},
   "outputs": [
    {
     "data": {
      "text/plain": [
       "[12.12,\n",
       " 17.59,\n",
       " -30.14,\n",
       " -22.23,\n",
       " -5.21,\n",
       " 62.74,\n",
       " 49.99,\n",
       " 28.28,\n",
       " 22.61,\n",
       " -10.9,\n",
       " 4.31,\n",
       " 52.75]"
      ]
     },
     "execution_count": 33,
     "metadata": {},
     "output_type": "execute_result"
    }
   ],
   "source": [
    "profitmargin=list([])\n",
    "for i in range(0, len(profitaftertax)):\n",
    "    profitmargin.append(profitaftertax[i]/revenue[i])\n",
    "\n",
    "profitmargin=[round((i*100),2)for i in profitmargin]\n",
    "profitmargin"
   ]
  },
  {
   "cell_type": "markdown",
   "metadata": {},
   "source": [
    "#Tasks4&5"
   ]
  },
  {
   "cell_type": "code",
   "execution_count": 24,
   "metadata": {},
   "outputs": [
    {
     "data": {
      "text/plain": [
       "1750.6816666666666"
      ]
     },
     "execution_count": 24,
     "metadata": {},
     "output_type": "execute_result"
    }
   ],
   "source": [
    "average=sum(profitaftertax)/len(profitaftertax)\n",
    "average"
   ]
  },
  {
   "cell_type": "code",
   "execution_count": 37,
   "metadata": {},
   "outputs": [
    {
     "data": {
      "text/plain": [
       "[True, False, False, False, False, True, True, True, True, False, False, True]"
      ]
     },
     "execution_count": 37,
     "metadata": {},
     "output_type": "execute_result"
    }
   ],
   "source": [
    "goodmonths=list([])\n",
    "for i in range(0, len(profitaftertax)):\n",
    "    goodmonths.append(profitaftertax[i]>average)\n",
    "goodmonths"
   ]
  },
  {
   "cell_type": "code",
   "execution_count": 38,
   "metadata": {},
   "outputs": [
    {
     "data": {
      "text/plain": [
       "[False, True, True, True, True, False, False, False, False, True, True, False]"
      ]
     },
     "execution_count": 38,
     "metadata": {},
     "output_type": "execute_result"
    }
   ],
   "source": [
    "badmonths=list([])\n",
    "for i in range(0, len(profitaftertax)):\n",
    "    badmonths.append(profitaftertax[i]<average)\n",
    "badmonths"
   ]
  },
  {
   "cell_type": "markdown",
   "metadata": {},
   "source": [
    "#Tasks6&7"
   ]
  },
  {
   "cell_type": "code",
   "execution_count": 42,
   "metadata": {},
   "outputs": [
    {
     "data": {
      "text/plain": [
       "[False,\n",
       " False,\n",
       " False,\n",
       " False,\n",
       " False,\n",
       " False,\n",
       " False,\n",
       " False,\n",
       " False,\n",
       " False,\n",
       " False,\n",
       " True]"
      ]
     },
     "execution_count": 42,
     "metadata": {},
     "output_type": "execute_result"
    }
   ],
   "source": [
    "bestmonth=list([])\n",
    "for i in range(0,len(profit)):\n",
    "    bestmonth.append(profitaftertax[i]==max(profitaftertax))\n",
    "bestmonth"
   ]
  },
  {
   "cell_type": "code",
   "execution_count": 43,
   "metadata": {},
   "outputs": [
    {
     "data": {
      "text/plain": [
       "[False,\n",
       " False,\n",
       " True,\n",
       " False,\n",
       " False,\n",
       " False,\n",
       " False,\n",
       " False,\n",
       " False,\n",
       " False,\n",
       " False,\n",
       " False]"
      ]
     },
     "execution_count": 43,
     "metadata": {},
     "output_type": "execute_result"
    }
   ],
   "source": [
    "worstmonth=list([])\n",
    "for i in range(0,len(profit)):\n",
    "    worstmonth.append(profitaftertax[i]==min(profitaftertax))\n",
    "worstmonth"
   ]
  },
  {
   "cell_type": "markdown",
   "metadata": {},
   "source": [
    "---"
   ]
  },
  {
   "cell_type": "code",
   "execution_count": 44,
   "metadata": {},
   "outputs": [],
   "source": [
    "#Converting all calculations to units of one thousand dollars\n",
    "revenue_1000=[round(i/1000,2)for i in revenue]\n",
    "expenses_1000=[round(i/1000,2)for i in expenses]\n",
    "profit_1000=[round(i/1000,2)for i in profit]\n",
    "profitaftertax_1000=[round(i/1000,2) for i in profitaftertax]\n",
    "\n",
    "revenue_1000=[int(i)for i in revenue_1000]\n",
    "expenses_1000=[int(i)for i in expenses_1000]\n",
    "profit_1000=[int(i)for i in profit_1000]\n",
    "profitaftertax_1000=[int(i)for i in profitaftertax_1000]"
   ]
  },
  {
   "cell_type": "code",
   "execution_count": 47,
   "metadata": {},
   "outputs": [
    {
     "name": "stdout",
     "output_type": "stream",
     "text": [
      "Revenue:\n",
      "[14, 7, 8, 9, 8, 8, 11, 9, 10, 14, 10, 15]\n",
      "expenses\n",
      "[12, 5, 12, 12, 8, 0, 3, 5, 6, 16, 10, 3]\n",
      "profit\n",
      "[2, 1, -3, -2, 0, 7, 8, 3, 3, -2, 0, 11]\n",
      "profitaftertax\n",
      "[1, 1, -2, -2, 0, 5, 5, 2, 2, -1, 0, 8]\n",
      "profitmargin\n",
      "[12.12, 17.59, -30.14, -22.23, -5.21, 62.74, 49.99, 28.28, 22.61, -10.9, 4.31, 52.75]\n",
      "good months\n",
      "[True, False, False, False, False, True, True, True, True, False, False, True]\n",
      "bad months\n",
      "[False, True, True, True, True, False, False, False, False, True, True, False]\n",
      "best month\n",
      "[False, False, False, False, False, False, False, False, False, False, False, True]\n",
      "worst month\n",
      "[False, False, True, False, False, False, False, False, False, False, False, False]\n"
     ]
    }
   ],
   "source": [
    "#Print results\n",
    "print (\"Revenue:\")\n",
    "print (revenue_1000)\n",
    "print (\"expenses\")\n",
    "print (expenses_1000)\n",
    "print (\"profit\")\n",
    "print (profit_1000)\n",
    "print (\"profitaftertax\")\n",
    "print (profitaftertax_1000)\n",
    "print (\"profitmargin\")\n",
    "print (profitmargin)\n",
    "print (\"good months\")\n",
    "print (goodmonths)\n",
    "print (\"bad months\")\n",
    "print (badmonths)\n",
    "print (\"best month\")\n",
    "print (bestmonth)\n",
    "print (\"worst month\")\n",
    "print (worstmonth)"
   ]
  },
  {
   "cell_type": "code",
   "execution_count": null,
   "metadata": {},
   "outputs": [],
   "source": []
  }
 ],
 "metadata": {
  "kernelspec": {
   "display_name": "Python 3",
   "language": "python",
   "name": "python3"
  },
  "language_info": {
   "codemirror_mode": {
    "name": "ipython",
    "version": 3
   },
   "file_extension": ".py",
   "mimetype": "text/x-python",
   "name": "python",
   "nbconvert_exporter": "python",
   "pygments_lexer": "ipython3",
   "version": "3.8.5"
  }
 },
 "nbformat": 4,
 "nbformat_minor": 4
}
